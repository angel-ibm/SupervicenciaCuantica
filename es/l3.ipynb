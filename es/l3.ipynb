{
 "cells": [
  {
   "cell_type": "markdown",
   "metadata": {},
   "source": [
    "# Representando varios qubits"
   ]
  },
  {
   "cell_type": "markdown",
   "metadata": {},
   "source": [
    "Hasta ahora hemos visto qué se puede hacer con un qubit y seguramente te estarás preguntando desde hace tiempo qué pasa cuando juntamos más, si es que se puede. Te diré que no solo se puede sino que además se deben utilizar muchos qubits si queremos hacer esas cosas tan maravillosas de las que hablábamos al principio. \n",
    "\n",
    "Todo tiene un precio y, en nuestro caso, vamos a pagar el precio de la complejidad matemática que resulta de juntar varias cosas (los qubits) que individualmente ya son suficientemente complejas. Igual que en los capítulos anteriores, ni te voy a enseñar matemáticas complicadas ni las vas a necesitar pero sí vas a ver como las ecuaciones y las expresiones se complican."
   ]
  },
  {
   "cell_type": "markdown",
   "metadata": {},
   "source": [
    "Acabamos de ver como manipular el estado de un qubit equivale a multiplicarlo por una matriz que lo transforma mediante un giro. La multiplicación que hemos visto es una multiplicación de matrices, donde la primera representa el giro y la segunda al qubit. Recordemos esto con la transformación $X$, que intercambiaba los elementos de la matriz del qubit:\n",
    "\n",
    "$$\n",
    "\\ket{\\psi} = \\left[ \\begin{array}{c} \\alpha \\\\ \\beta \\end{array} \\right]\n",
    "$$\n",
    "\n",
    "\n",
    "$$\n",
    "X = \\left[ \\begin{array}{cc} 0   &  1 \\\\ 1 & 0 \\end{array} \\right]\n",
    "$$\n",
    "\n",
    "$$\n",
    "X \\cdot \\ket{\\psi} = X \\cdot \\left[ \\begin{array}{c} \\alpha \\\\ \\beta \\end{array} \\right] = \\left[ \\begin{array}{cc} 0 & 1 \\\\ 1 & 0 \\end{array} \\right] \\cdot \\left[ \\begin{array}{c} \\alpha \\\\ \\beta \\end{array} \\right] = \\left[ \\begin{array}{c} 0 \\cdot \\alpha + 1 \\cdot \\beta \\\\ 1 \\cdot \\alpha + 0 \\cdot \\beta \\end{array} \\right] = \\left[ \\begin{array}{c} \\beta \\\\ \\alpha \\end{array} \\right]\n",
    "$$\n",
    "\n"
   ]
  },
  {
   "cell_type": "markdown",
   "metadata": {},
   "source": [
    "Ahora viene lo bueno: cuando añadimos más qubits para trabajar con ellos conjuntamente, también tenemos que \"multiplicarlos\". Seguro que te has alegrado al leer esto, pues la operación de multiplicar se aprende en la escuela, pero si te has fijado en las comillas quizás sospeches que no me refería a lo te nos enseñaron de pequeños. Efectivamente: la operación que junta dos qubits se llama ***producto tensorial***. No es que sea complicada, pero salen expresiones demasiado largas si queremos escribir todo detalladamente. Bueno, yo te lo cuento y ya veremos lo que opinas."
   ]
  },
  {
   "cell_type": "markdown",
   "metadata": {},
   "source": [
    "Empezamos con el primer qubit, que lo vamos a llamar *psi sub 1* es decir: $\\psi_1$ \n",
    "\n",
    "$$\n",
    "\\ket{\\psi_1}\n",
    "$$\n",
    "\n",
    "Al segundo lo llamaremos *psi sub dos*, o sea: $\\psi_2$: \n",
    "\n",
    "$$\n",
    "\\ket{\\psi_2}\n",
    "$$\n",
    "\n",
    "Ahora los juntamos mediante el la operación llamada producto tensorial, que se escribe asi: $\\otimes$\n",
    "\n",
    "$$\n",
    "\\ket{\\psi_1} \\otimes \\ket{\\psi_2}\n",
    "$$\n",
    "\n",
    "y como no queremos arrastrar el circulito con la x todo el rato, lo abreviamos así:\n",
    "\n",
    "$$\n",
    "\\ket{\\psi_1 \\psi_2} \n",
    "$$"
   ]
  },
  {
   "cell_type": "markdown",
   "metadata": {},
   "source": [
    "Pues si solo es eso, pensarás que no debería haberte asustado tanto con lo de las expresiones largas y la complejidad matemática. Ya... pero no he acabado todavía. Vamos a escribir lo mismo en forma matricial:\n",
    "\n",
    "$$\n",
    "\\ket{\\psi_1} = \\left[ \\begin{array}{c} \\alpha_1 \\\\ \\beta_1 \\end{array} \\right]\n",
    "$$\n",
    "\n",
    "$$\n",
    "\\ket{\\psi_2} = \\left[ \\begin{array}{c} \\alpha_2 \\\\ \\beta_2 \\end{array} \\right]\n",
    "$$\n",
    "\n",
    "por ahora todo bien. No he hecho más que añadir sufijos a las alfas y las betas. Seguimos:\n",
    "\n",
    "$$\n",
    "\\ket{\\psi_1 \\psi_2} = \\ket{\\psi_1} \\otimes \\ket{\\psi_2} = \\left[ \\begin{array}{c} \\alpha_1 \\\\ \\beta_1 \\end{array} \\right] \\otimes \\left[ \\begin{array}{c} \\alpha_2 \\\\ \\beta_2 \\end{array} \\right]\n",
    "$$\n",
    "\n",
    "y ahora qué? Si no quiero arrastrar el $\\otimes$ tendré que hacer algo. Ciertamente, ahora es cuando se aplican las reglas del álgebra lineal y queda algo así:\n",
    "\n",
    "$$\n",
    "\\left[ \\begin{array}{c} \\alpha_1 \\\\ \\beta_1 \\end{array} \\right] \\otimes \\left[ \\begin{array}{c} \\alpha_2 \\\\ \\beta_2 \\end{array} \\right] = \\left[ \\begin{array}{c} \\alpha_1 \\cdot \\left[ \\begin{array}{c} \\alpha_2 \\\\ \\beta_2 \\end{array} \\right] \\\\  \\\\ \\beta_1 \\cdot  \\left[ \\begin{array}{c} \\alpha_2 \\\\ \\beta_2 \\end{array} \\right] \\end{array} \\right] = \\left[ \\begin{array}{c} \\alpha_1 \\cdot \\alpha_2  \\\\ \\\\ \\alpha_1 \\cdot \\beta_2  \\\\ \\\\ \\beta_1 \\cdot \\alpha_2 \\\\ \\\\ \\beta_1 \\cdot \\beta_2 \\end{array} \\right] \n",
    "$$\n",
    "\n",
    "de forma algo más compacta, se puede escribir es así:\n",
    "\n",
    "$$\n",
    "\\ket{\\psi_1 \\psi_2} = \\left[ \\begin{array}{c} \\alpha_1  \\alpha_2  \\\\ \\alpha_1  \\beta_2  \\\\ \\beta_1  \\alpha_2 \\\\ \\beta_1  \\beta_2 \\end{array} \\right]\n",
    "$$"
   ]
  },
  {
   "cell_type": "markdown",
   "metadata": {},
   "source": [
    "Cuando multiplicamos todas las alfas y las betas, al final va a quedar una matriz de cuatro elementos o, como dicen los matemáticos una matriz de cuatro filas y una columna ($4 \\times 1$). Tampoco es para tanto, pensarás... \n",
    "\n",
    "A ver si te convenzo de que esto va a acabar siendo muy grande. Vamos a hacer lo mismo con tres qubits y aprovechamos que dos ya los tenemos juntos:\n",
    "\n",
    "$$\n",
    "\\ket{\\psi_1 \\psi_2} = \\left[ \\begin{array}{c} \\alpha_1  \\alpha_2  \\\\ \\alpha_1  \\beta_2  \\\\ \\beta_1  \\alpha_2 \\\\ \\beta_1  \\beta_2 \\end{array} \\right]\n",
    "$$\n",
    "\n",
    "$$\n",
    "\\ket{\\psi_3} = \\left[ \\begin{array}{c} \\alpha_3 \\\\ \\beta_3 \\end{array} \\right]\n",
    "$$\n",
    "\n",
    "$$\n",
    "\\ket{\\psi_1 \\psi_2 \\psi_3} = \\ket{\\psi_1 \\psi_2} \\otimes \\ket{\\psi_3} = \\left[ \\begin{array}{c} \\alpha_1  \\alpha_2  \\\\ \\alpha_1  \\beta_2  \\\\ \\beta_1  \\alpha_2 \\\\ \\beta_1  \\beta_2 \\end{array} \\right] \\otimes \\left[ \\begin{array}{c} \\alpha_3 \\\\ \\beta_3 \\end{array} \\right] = \\left[ \\begin{array}{c} \\alpha_1  \\alpha_2  \\cdot \\left[ \\begin{array}{c} \\alpha_3 \\\\ \\beta_3 \\end{array} \\right] \\\\ \\\\ \\alpha_1  \\beta_2 \\cdot \\left[ \\begin{array}{c} \\alpha_3 \\\\ \\beta_3 \\end{array} \\right] \\\\ \\\\ \\beta_1  \\alpha_2 \\cdot \\left[ \\begin{array}{c} \\alpha_3 \\\\ \\beta_3 \\end{array} \\right] \\\\ \\\\ \\beta_1  \\beta_2 \\cdot \\left[ \\begin{array}{c} \\alpha_3 \\\\ \\beta_3 \\end{array} \\right] \\end{array} \\right]\n",
    "$$\n",
    "\n",
    "$$\n",
    "\\ket{\\psi_1 \\psi_2 \\psi_3}  = \\left[ \\begin{array}{c} \\alpha_1  \\alpha_2  \\alpha_3 \\\\ \\alpha_1  \\alpha_2  \\beta_3 \\\\ \\alpha_1  \\beta_2  \\alpha_3 \\\\ \\alpha_1  \\beta_2  \\beta_3 \\\\ \\beta_1  \\alpha_2  \\alpha_3 \\\\ \\beta_1  \\alpha_2  \\beta_3 \\\\ \\beta_1  \\beta_2  \\alpha_3 \\\\ \\beta_1  \\beta_2  \\beta_3  \\end{array} \\right]\n",
    "$$\n",
    "\n",
    "\n",
    "No es difícil darse cuenta que cada vez que añadimos un qubit, la matriz vertical que los representa a todos juntos crece exponencialmente. En el caso de tres qubits ya son $8 \\times 1$. Esto quiere decir que, en breve, no los vamos a poder escribir debido a la longitud exagerada de su representación."
   ]
  },
  {
   "cell_type": "markdown",
   "metadata": {},
   "source": [
    "Como por aquí parece que no vamos a llegar muy lejos, vamos a ver qué alternativas tenemos. Si recuerdas, los qubits se pueden también representar de forma \"plana\", quiero decir sin matrices. Tal que así:\n",
    "\n",
    "$$\n",
    "\\ket{\\psi} = \\alpha \\ket{0} + \\beta \\ket{1} \n",
    "$$\n",
    "\n",
    "Bien, pues vamos a tirar del hilo a ver hasta dónde llegamos. Representemos nuestros dos qubits así:\n",
    "\n",
    "$$\n",
    "\\ket{\\psi_1} = \\alpha_1 \\ket{0} + \\beta_1 \\ket{1} \n",
    "$$\n",
    "\n",
    "$$\n",
    "\\ket{\\psi_2} = \\alpha_2 \\ket{0} + \\beta_2 \\ket{1} \n",
    "$$\n",
    "\n",
    "ahora, los juntamos:\n",
    "\n",
    "$$\n",
    "\\ket{\\psi_1}  \\otimes \\ket{\\psi_2} = ( \\alpha_1 \\ket{0} + \\beta_1 \\ket{1} ) \\otimes  (\\alpha_2 \\ket{0} + \\beta_2 \\ket{1} ) =\n",
    "$$\n",
    "\n",
    "aplicamos las reglas del álgebra\n",
    "\n",
    "$$\n",
    " =  \\alpha_1 \\alpha_2 (\\ket{0} \\otimes \\ket{0})+ \\alpha_1 \\beta_2 (\\ket{0} \\otimes  \\ket{1} ) + \\beta_1 \\alpha_2 (\\ket{1} \\otimes \\ket{0} ) + \\beta_1 \\beta_2 (\\ket{1} \\otimes \\ket{1}) = \n",
    "$$\n",
    "\n",
    "y ya sabemos que podemos juntar los estados para no arrastrar el símbolo del producto tensorial  $\\otimes$\n",
    "\n",
    "$$\n",
    " = \\alpha_1 \\alpha_2 \\ket{00} + \\alpha_1 \\beta_2 \\ket{01}  + \\beta_1 \\alpha_2 \\ket{10}  + \\beta_1 \\beta_2 \\ket{11} \n",
    "$$\n",
    "\n",
    "En fin, si comparamos las dos formas de representar dos qubits, no parece que hayamos ganado mucho:\n",
    "\n",
    "$$\n",
    "\\ket{\\psi_1 \\psi_2} = \\left[ \\begin{array}{c} \\alpha_1  \\alpha_2  \\\\ \\alpha_1  \\beta_2  \\\\ \\beta_1  \\alpha_2 \\\\ \\beta_1  \\beta_2 \\end{array} \\right]\n",
    "$$\n",
    "\n",
    "$$\n",
    "\\ket{\\psi_1 \\psi_2} = \\alpha_1 \\alpha_2 \\ket{00} + \\alpha_1 \\beta_2 \\ket{01}  + \\beta_1 \\alpha_2 \\ket{10}  + \\beta_1 \\beta_2 \\ket{11} \n",
    "$$\n",
    "\n"
   ]
  },
  {
   "cell_type": "markdown",
   "metadata": {},
   "source": [
    "Efectivamente: las dos expresiones son equivalentes. Quizá la de abajo nos permita jugar un poco más pero, en definitiva, podemos usar la que más nos guste o la que más nos convenga. Por si tienes curiosidad, para ver la expresión \"plana\" de tres qubits empezaríamos así:\n",
    "\n",
    "\n",
    "$$\n",
    "\\ket{\\psi_1 \\psi_2 \\psi_3} = \\ket{\\psi_1 \\psi_2} \\otimes \\ket{\\psi_3} = ( \\alpha_1 \\alpha_2 \\ket{00} + \\alpha_1 \\beta_2 \\ket{01}  + \\beta_1 \\alpha_2 \\ket{10}  + \\beta_1 \\beta_2 \\ket{11} ) \\otimes (\\alpha_3 \\ket{0} + \\beta_3 \\ket{1} )\n",
    "$$\n",
    "\n",
    "\n",
    "y, haciendo lo mismo que antes, acabaríamos con esto:\n",
    "\n",
    "$$\n",
    "\\ket{\\psi_1 \\psi_2 \\psi_3} =  \\alpha_1  \\alpha_2  \\alpha_3 \\ket{000} + \n",
    "                              \\alpha_1  \\alpha_2  \\beta_3  \\ket{001} + \n",
    "                              \\alpha_1  \\beta_2   \\alpha_3 \\ket{010} + \n",
    "                              \\alpha_1  \\beta_2   \\beta_3  \\ket{011} + \n",
    "                              \\beta_1   \\alpha_2  \\alpha_3 \\ket{100} + \n",
    "                              \\beta_1   \\alpha_2  \\beta_3  \\ket{101} + \n",
    "                              \\beta_1   \\beta_2   \\alpha_3 \\ket{110} + \n",
    "                              \\beta_1   \\beta_2   \\beta_3  \\ket{111}\n",
    "$$\n"
   ]
  },
  {
   "cell_type": "markdown",
   "metadata": {},
   "source": [
    "Me falta una cosa que contarte para acabar las matemáticas pesadas. Pensemos por un momento en qué es esto:\n",
    "\n",
    "$$\n",
    "\\ket{00}\n",
    "$$\n",
    "\n",
    "Efectívamente esto es juntar dos qubits y ambos están en su estado fundamental $\\ket{0}$. Estarás de acuerdo conmigo en que la expresión de antes es la forma abreviada de:\n",
    "\n",
    "$$\n",
    "\\ket{0} \\otimes \\ket{0}\n",
    "$$\n",
    "\n",
    "y si ponemos los qubits en forma matricial:\n",
    "\n",
    "\n",
    "$$\n",
    "\\left[ \\begin{array}{c} 1 \\\\ 0 \\end{array} \\right] \\otimes \\left[ \\begin{array}{c} 1 \\\\ 0 \\end{array} \\right] \n",
    "$$"
   ]
  },
  {
   "cell_type": "markdown",
   "metadata": {},
   "source": [
    "aplicando las reglas del producto tensorial:\n",
    "\n",
    "$$\n",
    "\\left[ \\begin{array}{c} 1 \\\\ 0 \\end{array} \\right] \\otimes \\left[ \\begin{array}{c} 1 \\\\ 0 \\end{array} \\right] = \\left[ \\begin{array}{c} 1 \\cdot \\left[ \\begin{array}{c} 1 \\\\ 0\\end{array} \\right] \\\\  \\\\ 0 \\cdot  \\left[ \\begin{array}{c} 1 \\\\ 0 \\end{array} \\right] \\end{array} \\right] = \\left[ \\begin{array}{c} 1 \\cdot 1  \\\\ \\\\ 1 \\cdot 0  \\\\ \\\\ 0 \\cdot 1\\\\ \\\\ 0 \\cdot 0 \\end{array} \\right] = \\left[ \\begin{array}{c} 1  \\\\ 0  \\\\ 0  \\\\ 0 \\end{array} \\right] \n",
    "$$\n",
    "\n",
    "Esto la verdad que no queda nada mal:\n",
    "\n",
    "$$\n",
    "\\ket{00} = \\left[ \\begin{array}{c} 1  \\\\ 0  \\\\ 0  \\\\ 0 \\end{array} \\right] \n",
    "$$\n",
    "\n",
    "y ya que estamos, completemos los demás:\n",
    "\n",
    "$$\n",
    "\\ket{01} = \\left[ \\begin{array}{c} 0  \\\\ 1  \\\\ 0  \\\\ 0 \\end{array} \\right] \n",
    "$$\n",
    "\n",
    "$$\n",
    "\\ket{10} = \\left[ \\begin{array}{c} 0  \\\\ 0  \\\\ 1  \\\\ 0 \\end{array} \\right] \n",
    "$$\n",
    "\n",
    "$$\n",
    "\\ket{11} = \\left[ \\begin{array}{c} 0  \\\\ 0  \\\\ 0  \\\\ 1 \\end{array} \\right] \n",
    "$$"
   ]
  },
  {
   "cell_type": "markdown",
   "metadata": {},
   "source": [
    "Ahora reflexionemos sobre lo que ha salido. Cuando teníamos un sólo qubit, vimos que podíamos expresarlo en función de dos estados fundamentales $\\ket{0}$ y $\\ket{1}$ añadiendo dos numeritos alfa y beta a cada uno y sumando todo. Esa alfa y beta eran los elementos de la matriz que también le representa alternativamente.\n",
    "\n",
    "Si juntamos dos qubits hemos visto que nos sale una matriz de cuatro elementos y, además, la forma alternativa de representarlo parece tener una especie de cuatro estados fundamentales combinados $\\ket{00} \\ket{01} \\ket{10} \\ket{11} $.\n",
    "\n",
    "Si juntamos tres qubits nos salen ocho elementos en la matriz y ocho estados combinados fundamentales  $\\ket{000} \\ket{001} \\ket{010} \\ket{011} \\ket{100} \\ket{101} \\ket{110} \\ket{111} $ y así exponencialmente. \n",
    "\n",
    "Esto, será todo lo farragoso que queramos, pero nos da una pista de la potencia de cálculo que añade cada qubit. Ahora sí que me crees cuando digo que los científicos se han debido esforzar muchísimo para poder aprovechar esa potencia de cálculo a través de matemáticas muy complicadas... de las que hemos visto la punta del iceberg."
   ]
  },
  {
   "cell_type": "markdown",
   "metadata": {},
   "source": [
    "---\n",
    "\n",
    "Capítulo siguiente: [Circuitos](./l4.ipynb)\n",
    "\n",
    "Capítulo anterior: [Operaciones  qubit](./l2.ipynb)\n",
    "\n",
    "[Volver al índice](../README.md)"
   ]
  }
 ],
 "metadata": {
  "language_info": {
   "name": "python"
  },
  "orig_nbformat": 4
 },
 "nbformat": 4,
 "nbformat_minor": 2
}
