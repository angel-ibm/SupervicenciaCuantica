{
 "cells": [
  {
   "cell_type": "markdown",
   "metadata": {},
   "source": [
    "# El significado de _\"computación cuántica\"_\n",
    "\n",
    "En palabras sencillas, cuando aquí decimos _\"computación\"_ debemos pensar en _\"hacer cálculos\"_. Como te puedes imaginar, los cálculos fáciles, los de toda la vida, pueden hacerse con instrumentos poco sofisticados pero cuando hablamos de cosas más complicadas hay que pensar en otro modo de calcular.\n",
    "\n",
    "Para entender un poco más profundamente lo que queremos decir con _\"computación\"_ en nuestro contexto, pensemos en un ábaco. Con los ábacos se pueden hacer cálculos sencillos muy rápidamente (y no solo cálculos sencillos). Si no sabes cómo funciona un ábaco, seguro que te planteas cuestiones como estas:\n",
    "\n",
    "- si queremos calcular, deberemos representar los números de alguna manera\n",
    "- además, seguro que hay reglas que debemos cumplir y si nos las saltamos, no funciona nada\n",
    "- así mismo, debe haber métodos para realizar operaciones \n"
   ]
  },
  {
   "cell_type": "markdown",
   "metadata": {},
   "source": [
    "_Abaco chino (Suanpan)_\n",
    "\n",
    "![Abaco](./pics/abaco.jpg)\n"
   ]
  },
  {
   "cell_type": "markdown",
   "metadata": {},
   "source": [
    "\n",
    "\n",
    "Muy bien, respondamos a estas cuestiones:\n",
    "\n",
    "- En los ábacos, los números se representan mediante las posiciones de fichas. Estas se mueven hacia arriba o hacia abajo (hacia adelante o hacia atrás, o hacia los lados, según el tipo de ábaco) y dependiendo de cómo estén colocadas, representamos un número u otro. Curiosamente, los ordenadores representan los números de una forma muy similar.\n",
    "- La regla de oro de los ábacos es que cada ficha puede estar solo en una de dos posiciones (o está arriba o está abajo). No puedo sacar una ficha de una fila y ponerla en otra. Tampoco puedo dejar una ficha a medio camino, y si lo hago, no se puede saber que número estoy representando. No se podría calcular nada, el ábaco no funciona así.\n",
    "- Finalmente, la forma de sumar, multiplicar, etc. en el ábaco etc. se hace mediante métodos que se aprenden y se aplican según la operación que queramos realizar. Con el tiempo y la experiencia se adquiere la destreza necesaria para hacer pequeñas modificaciones, tomar atajos, y utilizar partes de un método en otro. \n",
    "\n",
    "Te diré, y espero que me creas, que los ordenadores que tenemos en casa o en el trabajo calculan de forma muy similar a lo que hacen los ábacos. Evidentemente no son lo mismo, pero en el fondo hay muchos fundamentos matemáticos que comparten ambas herramientas. En concreto, me refiero a la forma binaria de representar la información y a las reglas sencillas de la aritmética que aprendimos de pequeños. Tanto los ábacos como los ordenadores las utilizan en sus fundamentos más esenciales.\n",
    "\n",
    "También te diré que haber hablado de los ábacos viene muy bien para que entiendas lo que se quiere decir cuando oigas que _\"la computación cuántica es una forma totalmente distinta de calcular\"_. Si eso es cierto, la computación cuántica:\n",
    "- representará los números o, en general, la __información__ de una manera totalmente distinta\n",
    "- estará sometida a __reglas__ totalmente distintas\n",
    "- los __métodos__ para calcular serán totalmente distintos\n",
    "\n",
    "En las secciones siguientes quiero demostrar... bueno, me conformo con mostrar -  que estas tres afirmaciones son realmente como decimos."
   ]
  },
  {
   "cell_type": "markdown",
   "metadata": {},
   "source": [
    "## Lo que marca la diferencia\n",
    "\n",
    "Ahora que ya sabemos que la computación cuántica es una manera distinta de calcular, vamos a ahondar en las diferencias.\n",
    "\n",
    "### 1. Representación de la información\n",
    "\n",
    "Simplificando un poco, podemos pensar en que la información que queremos representar consiste en, principalmente, los números que intervienen en nuestros cálculos. Ya hemos visto que, en el ábaco, tomamos unas cuantas fichas y las movemos las arriba y abajo para representar números. Análogamente, en los ordenadores, juntamos unos cuantos bits y los ponemos a 0 ó a 1 para representar números en sistema binario. Estos números son información en el sentido de que pueden representar una cantidad que vemos en una hoja de cálculo, pero también puede representar el brillo de un pixel de nuestra pantalla o cualquier otra cosa que dependerá de la aplicación (el programa) que esté manejando esos números.\n",
    "\n",
    "Pues bien, la información en computación cuántica no se representa ni como fichas que se mueven hacia arriba y hacia abajo ni tampoco en bits. Atención que viene la primera palabra que hay que aprender: __QUBIT__. La información en computación cuántica se representa en forma de __qubits__. No busques en este tutorial la definición rigurosa y científica de lo que es un qubit. Te voy a contar cómo te lo puedes imaginar si quieres entenderlo rápidamente sin perder el fundamento matemático.\n",
    "\n",
    "- Imagínate el planeta Tierra.\n",
    "- Imagínate que si estás en Polo Norte decimos que estás en el punto 0.\n",
    "- En Polo Sur, diríamos punto 1\n",
    "- Para cualquier otro lugar de la Tierra, un número distinto calculado a partir de las coordenadas geográficas.\n",
    "\n",
    "![Tierra](./pics/Tierra.jpg)\n",
    "\n",
    "Así es un qubit: como la Tierra. Dependiendo de en qué lugar de la Tierra estás, tenemos asignado un número distinto. \n",
    "\n",
    "Vamos a acercarnos un poco más a cómo lo ven los matemáticos:\n",
    "\n",
    "- Imagínate una esfera. \n",
    "- Imagínate un punto sobre esa esfera.\n",
    "- Imagínate que ese punto se puede mover por la superficie de la esfera.\n",
    "- Imagínate que representamos números según la posición del punto. Por ejemplo:\n",
    "    - si el punto está arriba del todo, lo podemos llamar 0 \n",
    "    - si está abajo del todo, lo llamamos 1\n",
    "    - si está en cualquier otro sitio... bueno, espera un poco y te cuento más tarde como se escribe\n",
    "   \n",
    "![Sphere](./pics/sphere.jpg)\n",
    "\n",
    "\n",
    "Así es un qubit: como una esfera con un punto que se mueve sobre la superficie."
   ]
  },
  {
   "cell_type": "markdown",
   "metadata": {},
   "source": [
    "No sé si sabrás que en la superficie de una esfera, igual que en la superficie de la Tierra, hay infinitos puntos, infinitas posiciones - suponiendo que pensamos como los matématicos, claro está. Da igual que la esfera sea una pelota de tenis o sea tan grande como la Tierra, matemáticamente podríamos definir infinitas posiciones, un infinito número de lugares, todos cuantos queramos. Pues bien, si un qubit es como una esfera, párate un momento y piensa en cuántos números podríamos representar con un solo qubit. Efectivamente: infinitos números, o al menos es lo que dicen las matemáticas.\n",
    "\n",
    "Ahora piensa otra vez en el ábaco. Cada ficha podía tener solo dos posiciones: arriba y abajo. Análogamente, en los ordenadores un bit puede estar a 0 ó a 1. Pues bien, está claro que representar la información con qubits tiene que ser totalmente diferente a representarla con bits, aunque solo fuera por la cantidad de números que podemos representar con uno de ellos, olvidándonos de las esferas, de los puntos que se mueven, de longitud, latitud, los polos... En un qubit caben infinitos números. Esto es fascinante y rigurosamente cierto pero ya veremos que, en la práctica, las cosas no son tan bonitas ni tan infinitas. Bueno, eso ahora no importa. \n",
    "\n",
    "Quiero que sepas que si seguimos por este camino y ahondamos más en la representación de la información, voy a tener que explicar conceptos como los __estados de superposición__, pues eso de estar a medio camino entre el polo norte y el polo sur tiene implicaciones muy serias, si nos ponemos serios. Además, llegaríamos a las paradojas de la mecánica cuántica como la del famoso __gato de Schrödinger__.  Todo eso, más que aclarar, nos iba a liar, así que paramos aquí.\n",
    "\n",
    "De momento, espero que hayas entendido que representar información en computación cuántica se hace mediante qubits y esto es __totalmente distinto__ a otras maneras más habituales e intuitivas de hacerlo, como en los ábacos o en los ordenadores. Ya tenemos clara la primera diferencia. Vamos a por la segunda."
   ]
  },
  {
   "cell_type": "markdown",
   "metadata": {},
   "source": [
    "### 2. Las reglas de cálculo\n",
    "\n",
    "Ahora sí que la vamos a liar. Tenemos que hablar sobre las reglas de la mecánica cuántica y, como dicen por ahí, el que afirme que entiende la mecánica cuántica es que no entiende nada. \n",
    "\n",
    "En efecto: a partir de ahora estamos sujetos a las reglas de la mecánica cuántica, que es una parte de la física gracias a la cual la humanidad ha hecho progresos increíbles a pesar de que contradice nuestra intuición en muchísimos casos. Dicho esto, ya hemos marcado las diferencias con las reglas habituales del cálculo, que se basan en la aritmética que aprendemos en la escuela. Seguro que me crees cuando digo que la mecánica cuántica tiene reglas más complicadas que las del ábaco y por si acaso no me crees, te voy a contar una regla de entre las muchas que podría elegir dentro de la mecánica cuántica. \n",
    "\n",
    "La regla dice que, si los qubits son como la Tierra, solo podemos distinguir entre el Polo Norte y el Polo Sur. Nos da igual la posición, el lugar, en el que estemos en realidad... si alguien nos pregunta dónde estamos, solo podemos contestar \"en el Polo Norte\" o \"en el Polo Sur\". \n",
    "\n",
    "Pensemos un poco sobre esto: dijimos que había infinitos puntos en la superficie de una esfera (o infinitos lugares en la Tierra) y que los qubits representan a uno de esos puntos. Pues bien, ahora decimos que si queremos conocer dónde está ese punto, lo único que vamos a obtener es que está arriba del todo (en el Polo Norte) o abajo del todo (en el Polo Sur). Alguien puede empezar a pensar que los qubits mienten.\n",
    "\n",
    "Piénsalo de otra manera: estás en medio del océano y oyes que suena el teléfono gracias a tu super-oído fantástico. Desafortunadamente, solo hay dos cabinas telefónicas en toda la Tierra: una en el Polo Norte y otra en el Polo Sur. Ambas suenan a la vez y cuándo oyes el timbre tú vas a contestar a la cabina que crees más cercana. Repito: _la que crees más cercana_, porque tampoco sabes exactamente cuál está más cercana. Cuando contestas, oyes una voz que pregunta por tu posición actual y tú, como siempre dices la verdad, contestas \"Polo Norte\" o \"Polo Sur\". Si te preguntan dónde estabas cuando sonó el teléfono, en realidad no lo sabes exactamente... así que no puedes contestar, porque no quieres mentir.\n",
    "\n",
    "\n",
    "![Boat](./pics/boat.jpg) \n",
    "\n",
    "\n",
    "Es importante comprender que tú sí estabas en una posición bien definida cuando sonó el teléfono, pero no tenías ni GPS, ni teléfono móvil, ni nada... el océano todo es azul y no sabías exactamente dónde estabas. Es lógico pensar, que cuando respondes \"Polo Norte\" estabas más cerca del Polo Norte que del Polo Sur cuando sonó el teléfono, pero tampoco está garantizado al 100%. Si estabas en el Ecuador, seguramente el 50% de las veces irías al Sur y el otro 50% irías al Norte al oir el timbre. \n",
    "\n",
    "Desafortunadamente, así es como funcionan los qubits. Cuando queremos saber su estado (conocer la posición del punto sobre la superficie) o, como dicen los científicos, cuando realizamos una medición del estado del qubit, no podemos distinguir entre los infinitos estados posibles. En el caso de los qubits que manejamos en la actualidad, solo hay dos que podamos diferenciar: el 0 y el 1. Como esto es una cosa muy extraña, vamos a decir que no estamos trabajando con números normales, sino con estados cuánticos y para destacarlo, los vamos a escribir así: $\\ket{0}$ y $\\ket{1}$ que es una notación muy habitual en computación cuántica.\n",
    "\n",
    "Creo que lo he conseguido: te has tragado la regla de __indeterminación de la medida__ (e incluso la __notación de Dirac__) sin cuestionar nada. Vas por buen camino, pero ya verás como dentro de poco todo esto te rechina. Ciertamente, esta regla es muy extraña pero no va a ser la única cosa incomprensible que vamos a ver en computación cuántica. Los físicos y los matemáticos se han acostumbrado (o resignado) a jugar con estas reglas y lo han hecho tan bien que, a pesar de ser en teoría muy molestas, han sabido sacarle partido y aprovecharlas. Aunque parezca que son un obstáculo, veremos que precisamente gracias a ellas podemos hacer cosas increíbles. Es como si jugando con reglas tan extrañas, las situaciones absurdas se compensan unas con otras para crear algo que no se puede hacer por otros métodos y que, ademas, se comprueba que da resultados correctos. Con esto, te he enseñado con un ejemplo que las reglas son __completamente diferentes__ (por no decir absurdas) a las habituales, como queríamos demostrar."
   ]
  },
  {
   "cell_type": "markdown",
   "metadata": {},
   "source": [
    "### 3. Los métodos de cálculo\n",
    "\n",
    "Para sumar dos números de la manera habitual, escribimos uno encima del otro alineados por la derecha y sumamos las cifras por columnas empezando por la derecha y moviéndonos hacia la izquierda hasta llegar al final. Esta es una forma de sumar que se aprende en la escuela. Lo que llamaríamos un método de sumar o, como dirían los informáticos, un algoritmo para sumar. En este caso, el método está diseñado para unas herramientas concretas (el lápiz y el papel) y se observan siempre las reglas aritméticas para hallar la solución. Si nuestra herramienta es un ábaco, no podemos hacer exactamente lo mismo que con el lápiz y el papel pero podemos inspirarnos en el mismo algoritmo para realizar otro que se adapte más al ábaco y a su forma de representar los números. Operaciones más complicadas (p.ej. la raíz cuadrada) exigen algoritmos más tediosos pero en definitiva, son pasos sencillos a los que estamos acostumbrados. Si no lo sabías, te contaré que se pueden hacer raíces cuadradas con ábacos y ya sabes que, en el fondo, en un ábaco solo vamos a mover fichas hacia arriba o hacia abajo. Es fascinante lo que se puede calcular con unas cuantas fichas que pueden estar en solo dos posiciones.\n",
    "\n",
    "Pues bien, ahora imagina lo que se puede calcular con unos cuantas esferas, cada una con un punto que se puede mover en infinitas posiciones sobre su superficie. A estas esferas las hemos llamado qubits en un apartado más arriba. Seguro que me crees si te digo que es aún más fascinante calcular con qubits, pues tienes una mayor libertad que simplemente mover fichas arriba y abajo. Igualmente, no creo que tarde mucho en convencerte de que no va a ser nada fácil, pues a pesar de esa enorme libertad de mover el punto donde queramos, no podemos saltarnos las reglas de la mecánica cuántica... y la primera que hemos visto no parece que nos ayude a simplificar las cosas.\n",
    "\n",
    "Por el momento, digamos que los métodos de cálculo de la computación cuántica son los algoritmos cuánticos - ya veremos si necesitamos precisar esto más adelante. En esencia, un algoritmo cuántico consiste en juntar unos cuantos qubits y desplazar cada uno de sus puntos mediante una serie de rotaciones. Esto se llama cambiar el estado de los qubits, para ser más exactos. Mucha gente ha trabajado muy duro para saber como hay que \"agitar\" los qubits para obtener algo provechoso y seguro que muchos más han llegado al resultado que lo que pretendían calcular no se hace mejor con qubits... o quizás que todavía no sabemos cómo hacerlo eficientemente. También hay cosas que NO queremos calcular con qubits, aunque sabemos muy bien como hacerlo, porque con otros instrumentos es más rápido y menos costoso. Dado que seguramente no conoces a nadie que agite y rote esferas para hacer cálculos - yo tampoco, te acabo de demostrar que la computación cuántica calcula de forma totalmente distinta a la que estamos acostumbrados. Con esto he conseguido lo que pretendía desde el principio: explicar qué se quiere decir con _\"la computación cuántica es totalmente distinta a lo que conocemos\"_\n",
    "\n",
    "No obstante, y sobre todo dedicado a los más escépticos, no me resisto a poner un ejemplo de algoritmo cuántico que sea sencillo pero convincente para reforzar más el argumento de que estamos haciendo cosas completamente distintas a lo normal. Ahí va:\n",
    "\n",
    "\n",
    "![Teleport](./pics/teleport.jpg) \n"
   ]
  },
  {
   "cell_type": "markdown",
   "metadata": {},
   "source": [
    "Esto se llama el algoritmo de teleportación. No te lo pienso explicar ahora en detalle, pero que sepas que donde ves $ q_0 , q_1 , q_2 $ queremos representar tres qubits a los que sometemos a una serie de rotaciones (las cajitas azules y verdes) para que al final del circuito (a la derecha de la cajita verde con una Z) tengamos en el qubit llamado $q_2$ exactamente el mismo estado que había al principio del circuito en el qubit $q_0$. Las cajas negras son mediciones. Si recuerdas, es como si los qubits se fueran a las cabinas telefónicas del polo norte o el polo sur y su posición anterior queda indeterminada. \n",
    "\n",
    "En realidad, quería mostrar este algoritmo cuántico para contarte otra regla muy extraña de la mecánica cuántica, por si la anterior te ha sabido a poco. Hay una regla que se conoce como la _\"prohibición de la clonación de estados\"_ que dice que no se puede copiar un estado cuántico. Sí se puede transferir un estado de un qubit a otro pero si lo hacemos, perdemos el estado en el qubit de origen. La mecánica cuántica garantiza que la transferencia es fiel al 100%, pero no te deja ver en el origen lo que has transferido al destino. En el algoritmo de la figura, sabemos que en $q_2$ (a la derecha del todo, después de hacer unas cuantas rotaciones) hay exactamente lo mismo que lo que había en $q_0$ (a la izquierda del todo) pero no sabemos, ni supimos, ni sabremos qué estado había en $q_0$ a menos que nos vayamos a ver qué hay en $q_2$ - y aún así no será fácil. Esto puede resultar molesto pero también muy útil para transferir información secreta, porque las matemáticas te garantizan que ningún mensajero ni ningún espía va a poder copiar un secreto inadvertidamente."
   ]
  },
  {
   "cell_type": "markdown",
   "metadata": {},
   "source": [
    "Muy bien: pues ya sabes que, en la computación cuántica la información se representa de forma diferente (con qubits). Conoces dos reglas muy extrañas y un método para hacer transferencias de estados. Seguro que a nada de esto lo habrías llamado \"calcular\" cuando empezaste a leer. No obstante, así se calcula en la computación cuántica. \n",
    "\n",
    "Con algoritmos más complicados y con muchos más qubits se pueden hacer cosas que, con otros métodos, resultan absolutamente inabarcables. Por ejemplo, en el gremio de la computación cuántica se habla de que, incluso con los enormes super computadores (no cuánticos) que puedan existir hoy o en un futuro, se tardaría más que la edad del universo en vulnerar los algoritmos de cifrado habituales. Pues bien, con muchos qubits y un algoritmo que ya se conoce, descifrar mensajes sería algo bastante asequible."
   ]
  },
  {
   "cell_type": "markdown",
   "metadata": {},
   "source": [
    "A partir de ahora, tú decides. Ya has dado los primeros pasos hacia la computación cuántica. Más bien, yo diría que has empezado a gatear... no me atrevo a decir \"andar\". Si decides seguir adelante, te esperan muchas sorpresas gratificantes pero nadie te puede hacer el trabajo duro, que consiste en ampliar los fundamentos matemáticos y de programación hasta adquirir el nivel necesario para entender, modificar y desarrollar algoritmos cuánticos complejos que sirvan para algo más que transferir estados. No puedo hacer más que animarte e invitarte a avanzar en el camino y, quién sabe, a lo mejor eres tú el que abre caminos inexplorados gracias a tu esfuerzo, dedicación y talento."
   ]
  },
  {
   "cell_type": "markdown",
   "metadata": {},
   "source": [
    "---\n",
    "\n",
    "Capítulo siguiente: [El qubit](./l1.ipynb)\n",
    "\n",
    "[Volver al índice](../README.md)"
   ]
  }
 ],
 "metadata": {
  "interpreter": {
   "hash": "31f2aee4e71d21fbe5cf8b01ff0e069b9275f58929596ceb00d14d90e3e16cd6"
  },
  "kernelspec": {
   "display_name": "Python 3 (ipykernel)",
   "language": "python",
   "name": "python3"
  },
  "language_info": {
   "codemirror_mode": {
    "name": "ipython",
    "version": 3
   },
   "file_extension": ".py",
   "mimetype": "text/x-python",
   "name": "python",
   "nbconvert_exporter": "python",
   "pygments_lexer": "ipython3",
   "version": "3.9.7"
  }
 },
 "nbformat": 4,
 "nbformat_minor": 2
}
